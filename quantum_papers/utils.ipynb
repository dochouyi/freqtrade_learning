{
 "cells": [
  {
   "cell_type": "markdown",
   "source": [
    "## 编写一个脚本，将当前目录下所有pdf文件的文件名变成首字母大写，其它字母小写的形式，并修改文件名"
   ],
   "metadata": {
    "collapsed": false
   },
   "id": "d3bb21b165cbbddd"
  },
  {
   "cell_type": "code",
   "outputs": [
    {
     "name": "stdout",
     "output_type": "stream",
     "text": [
      "Renamed: Mitigating Extremal Risks: A Network-Based Portfolio\n",
      "Strategy.pdf -> Mitigating extremal risks: a network-based portfolio\n",
      "strategy.pdf\n",
      "Renamed: CI-STHPAN: Pre-trained Attention Network for Stock Selection with\n",
      "Channel-Independent Spatio-Temporal Hypergraph.pdf -> Ci-sthpan: pre-trained attention network for stock selection with\n",
      "channel-independent spatio-temporal hypergraph.pdf\n",
      "Renamed: Automate Strategy Finding with LLM in Quant investment.pdf -> Automate strategy finding with llm in quant investment.pdf\n",
      "Renamed: DIFFSTOCK: PROBABILISTIC RELATIONAL STOCK MARKET PREDICTIONS USING\n",
      "DIFFUSION MODELS.pdf -> Diffstock: probabilistic relational stock market predictions using\n",
      "diffusion models.pdf\n",
      "Renamed: EarnHFT: Efficient Hierarchical Reinforcement Learning for\n",
      "High Frequency Trading.pdf -> Earnhft: efficient hierarchical reinforcement learning for\n",
      "high frequency trading.pdf\n",
      "Renamed: I NTEGRATING T ICK - LEVEL D ATA AND P ERIODICAL S IGNAL FOR\n",
      "H IGH - FREQUENCY M ARKET M AKING.pdf -> I ntegrating t ick - level d ata and p eriodical s ignal for\n",
      "h igh - frequency m arket m aking.pdf\n",
      "Renamed: MULTI-RELATIONAL GRAPH DIFFUSION NEURAL NETWORK WITH PARALLEL\n",
      "RETENTION FOR STOCK TRENDS CLASSIFICATION.pdf -> Multi-relational graph diffusion neural network with parallel\n",
      "retention for stock trends classification.pdf\n",
      "Renamed: FreQuant: A Reinforcement-Learning based Adaptive Portfolio\n",
      "Optimization with Multi-frequency Decomposition.pdf -> Frequant: a reinforcement-learning based adaptive portfolio\n",
      "optimization with multi-frequency decomposition.pdf\n",
      "Renamed: Hierarchical Reinforced Trader (HRT): A Bi-Level Approach for\n",
      "Optimizing Stock Selection and Execution.pdf -> Hierarchical reinforced trader (hrt): a bi-level approach for\n",
      "optimizing stock selection and execution.pdf\n",
      "Renamed: Market Making with Scaled Beta Policies.pdf -> Market making with scaled beta policies.pdf\n",
      "Renamed: Extracting Financial Events from Raw Texts via Matrix Chunking.pdf -> Extracting financial events from raw texts via matrix chunking.pdf\n",
      "Renamed: Joint Latent Topic Discovery and Expectation\n",
      "Modeling for Financial Markets.pdf -> Joint latent topic discovery and expectation\n",
      "modeling for financial markets.pdf\n",
      "Renamed: Saliency-Aware Interpolative Augmentation for Multimodal\n",
      "Financial Prediction.pdf -> Saliency-aware interpolative augmentation for multimodal\n",
      "financial prediction.pdf\n",
      "Renamed: DGDNN: Decoupled Graph Diffusion Neural Network for Stock\n",
      "Movement Prediction.pdf -> Dgdnn: decoupled graph diffusion neural network for stock\n",
      "movement prediction.pdf\n",
      "Renamed: MacroHFT: Memory Augmented Context-aware Reinforcement\n",
      "Learning On High Frequency Trading.pdf -> Macrohft: memory augmented context-aware reinforcement\n",
      "learning on high frequency trading.pdf\n",
      "Renamed: Adaptive Long-Short Pattern Transformer for Stock Investment Selection.pdf -> Adaptive long-short pattern transformer for stock investment selection.pdf\n",
      "Renamed: MANA-Net: Mitigating Aggregated Sentiment Homogenization\n",
      "with News Weighting for Enhanced Market Prediction.pdf -> Mana-net: mitigating aggregated sentiment homogenization\n",
      "with news weighting for enhanced market prediction.pdf\n",
      "Renamed: Market Making with Learned Beta Policies.pdf -> Market making with learned beta policies.pdf\n",
      "Renamed: Double-Path Adaptive-correlation Spatial-Temporal Inverted\n",
      "Transformer for Stock Time Series Forecasting.pdf -> Double-path adaptive-correlation spatial-temporal inverted\n",
      "transformer for stock time series forecasting.pdf\n",
      "Renamed: RVRAE — A Dynamic Factor Model Based on\n",
      "Variational Recurrent Autoencoder for Stock\n",
      "Returns Prediction.pdf -> Rvrae — a dynamic factor model based on\n",
      "variational recurrent autoencoder for stock\n",
      "returns prediction.pdf\n",
      "Renamed: RSAP-DFM: Regime-Shifting Adaptive Posterior Dynamic Factor Model for\n",
      "Stock Returns Prediction.pdf -> Rsap-dfm: regime-shifting adaptive posterior dynamic factor model for\n",
      "stock returns prediction.pdf\n",
      "Renamed: MASTER: Market-Guided Stock Transformer for Stock Price Forecasting.pdf -> Master: market-guided stock transformer for stock price forecasting.pdf\n",
      "Renamed: MDGNN: Multi-Relational Dynamic Graph Neural Network for Comprehensive\n",
      "and Dynamic Stock Investment Prediction.pdf -> Mdgnn: multi-relational dynamic graph neural network for comprehensive\n",
      "and dynamic stock investment prediction.pdf\n",
      "Renamed: HireVAE: An Online and Adaptive Factor Model Based on Hierarchical and\n",
      "Regime-Switch VAE.pdf -> Hirevae: an online and adaptive factor model based on hierarchical and\n",
      "regime-switch vae.pdf\n",
      "Renamed: GARCH-Informed Neural Networks for Volatility\n",
      "Prediction in Financial Markets.pdf -> Garch-informed neural networks for volatility\n",
      "prediction in financial markets.pdf\n",
      "Renamed: Temporal Relational Reasoning of Large Language Models for\n",
      "Detecting Stock Portfolio Crashes.pdf -> Temporal relational reasoning of large language models for\n",
      "detecting stock portfolio crashes.pdf\n",
      "Renamed: Developing A Multi-Agent and Self-Adaptive Framework with\n",
      "Deep Reinforcement Learning\n",
      "for Dynamic Portfolio Risk Management.pdf -> Developing a multi-agent and self-adaptive framework with\n",
      "deep reinforcement learning\n",
      "for dynamic portfolio risk management.pdf\n",
      "Renamed: E2EAI: End-to-End Deep Learning Framework\n",
      "for Active Investing.pdf -> E2eai: end-to-end deep learning framework\n",
      "for active investing.pdf\n",
      "Renamed: Factor Investing with a Deep Multi-Factor Model.pdf -> Factor investing with a deep multi-factor model.pdf\n",
      "Renamed: IMM: An Imitative Reinforcement Learning Approach with Predictive\n",
      "Representation Learning for Automatic Market Making.pdf -> Imm: an imitative reinforcement learning approach with predictive\n",
      "representation learning for automatic market making.pdf\n",
      "Renamed: Trade When Opportunity Comes: Price Movement Forecasting via\n",
      "Locality-Aware Attention and Iterative Refinement Labeling.pdf -> Trade when opportunity comes: price movement forecasting via\n",
      "locality-aware attention and iterative refinement labeling.pdf\n",
      "Renamed: Mbt-gym: Reinforcement learning for model-based limit order\n",
      "book trading.pdf -> Mbt-gym: reinforcement learning for model-based limit order\n",
      "book trading.pdf\n",
      "Renamed: Reinforcement Learning with Maskable Stock Representation for\n",
      "Portfolio Management in Customizable Stock Pools.pdf -> Reinforcement learning with maskable stock representation for\n",
      "portfolio management in customizable stock pools.pdf\n"
     ]
    }
   ],
   "source": [
    "import os\n",
    "\n",
    "for filename in os.listdir('.'):\n",
    "    if filename.lower().endswith('.pdf'):\n",
    "        name, ext = os.path.splitext(filename)\n",
    "        # 首字母大写，其余小写\n",
    "        new_name = name.capitalize() + ext\n",
    "        if new_name != filename:\n",
    "            os.rename(filename, new_name)\n",
    "            print(f'Renamed: {filename} -> {new_name}')\n"
   ],
   "metadata": {
    "collapsed": true,
    "ExecuteTime": {
     "end_time": "2025-07-03T01:17:28.878973Z",
     "start_time": "2025-07-03T01:17:28.874507Z"
    }
   },
   "id": "initial_id",
   "execution_count": 1
  },
  {
   "cell_type": "code",
   "outputs": [],
   "source": [],
   "metadata": {
    "collapsed": false
   },
   "id": "9fe047b7a8d88f08"
  }
 ],
 "metadata": {
  "kernelspec": {
   "display_name": "Python 3",
   "language": "python",
   "name": "python3"
  },
  "language_info": {
   "codemirror_mode": {
    "name": "ipython",
    "version": 2
   },
   "file_extension": ".py",
   "mimetype": "text/x-python",
   "name": "python",
   "nbconvert_exporter": "python",
   "pygments_lexer": "ipython2",
   "version": "2.7.6"
  }
 },
 "nbformat": 4,
 "nbformat_minor": 5
}
